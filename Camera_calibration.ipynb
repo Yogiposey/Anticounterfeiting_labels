{
 "cells": [
  {
   "cell_type": "code",
   "execution_count": 22,
   "id": "40c0e3a2",
   "metadata": {
    "code_folding": []
   },
   "outputs": [
    {
     "data": {
      "text/plain": [
       "\"This work is inspired from Nielsen's algorithm\\nhttps://github.com/niconielsen32\\n\""
      ]
     },
     "execution_count": 22,
     "metadata": {},
     "output_type": "execute_result"
    }
   ],
   "source": [
    "\"\"\"This work is inspired from Nielsen's algorithm\n",
    "https://github.com/niconielsen32\n",
    "\"\"\"\n"
   ]
  },
  {
   "cell_type": "code",
   "execution_count": 19,
   "id": "df4b7a27",
   "metadata": {
    "code_folding": []
   },
   "outputs": [],
   "source": [
    "#imports\n",
    "import numpy as np\n",
    "import cv2\n",
    "import cv2.aruco as aruco\n",
    "import pathlib\n",
    "import imutils\n",
    "import numpy as np\n",
    "import cv2 as cv, PIL\n",
    "from cv2 import aruco\n",
    "import matplotlib.pyplot as plt\n",
    "import matplotlib as mpl\n",
    "import pandas as pd\n",
    "%matplotlib nbagg\n",
    "import imutils"
   ]
  },
  {
   "cell_type": "code",
   "execution_count": 8,
   "id": "b8402ff3",
   "metadata": {
    "code_folding": [
     0,
     7
    ]
   },
   "outputs": [],
   "source": [
    "def save_coefficients(mtx, dist, path):\n",
    "    '''Save the camera matrix and the distortion coefficients to given path/file.'''\n",
    "    cv_file = cv2.FileStorage(path, cv2.FILE_STORAGE_WRITE)\n",
    "    cv_file.write('K', mtx)\n",
    "    cv_file.write('D', dist)\n",
    "    # note you *release* you don't close() a FileStorage object\n",
    "    cv_file.release()\n",
    "def load_coefficients(path):\n",
    "    '''Loads camera matrix and distortion coefficients.'''\n",
    "    # FILE_STORAGE_READ\n",
    "    cv_file = cv2.FileStorage(path, cv2.FILE_STORAGE_READ)\n",
    "\n",
    "    # note we also have to specify the type to retrieve other wise we only get a\n",
    "    # FileNode object back instead of a matrix\n",
    "    camera_matrix = cv_file.getNode('K').mat()\n",
    "    dist_matrix = cv_file.getNode('D').mat()\n",
    "\n",
    "    cv_file.release()\n",
    "    return [camera_matrix, dist_matrix]"
   ]
  },
  {
   "cell_type": "code",
   "execution_count": 9,
   "id": "5cefcf9c",
   "metadata": {
    "code_folding": []
   },
   "outputs": [],
   "source": [
    "marker_length = 2.3\n",
    "square_length = 2.8"
   ]
  },
  {
   "cell_type": "code",
   "execution_count": 10,
   "id": "dc0e73f7",
   "metadata": {
    "code_folding": []
   },
   "outputs": [
    {
     "data": {
      "text/plain": [
       "True"
      ]
     },
     "execution_count": 10,
     "metadata": {},
     "output_type": "execute_result"
    }
   ],
   "source": [
    "#Example of how to create Charuco boards\n",
    "aruco_dict = aruco.Dictionary_get(aruco.DICT_7X7_50)\n",
    "board = aruco.CharucoBoard_create(5, 7, square_length, marker_length, aruco_dict)\n",
    "imboard = board.draw((2000, 2000))\n",
    "imboard = imutils.resize(imboard, width=600)\n",
    "cv2.imshow(\"board\",imboard)\n",
    "cv2.waitKey()\n",
    "cv2.destroyAllWindows()\n",
    "cv2.imwrite(\"C:/Users/Ian/Documents/Julien/IMT/Minijob/Anti_counterfeiting_labels/aruco/ressources/posey.jpg\",imboard)"
   ]
  },
  {
   "cell_type": "code",
   "execution_count": 13,
   "id": "0ae8f4f4",
   "metadata": {
    "code_folding": [
     0
    ]
   },
   "outputs": [],
   "source": [
    "def calibrate_charuco(dirpath, image_format, marker_length, square_length):\n",
    "    '''Apply camera calibration using aruco.\n",
    "    The dimensions are in cm.\n",
    "    '''\n",
    "    aruco_dict = aruco.Dictionary_get(aruco.DICT_7X7_50)\n",
    "    board = aruco.CharucoBoard_create(5, 7, square_length, marker_length, aruco_dict)\n",
    "    arucoParams = aruco.DetectorParameters_create()\n",
    "\n",
    "    counter, corners_list, id_list = [], [], []\n",
    "    img_dir = pathlib.Path(dirpath)\n",
    "    first = 0\n",
    "    \n",
    "    \n",
    "    # Find the ArUco markers inside each image\n",
    "    for img in img_dir.glob(f'*{image_format}'):\n",
    "        print(f'using image {img}')\n",
    "        image = cv2.imread(str(img))\n",
    "        image = imutils.resize(image, width=600)\n",
    "        img_gray = cv2.cvtColor(image, cv2.COLOR_BGR2GRAY)\n",
    "        \n",
    "        corners, ids, rejected = aruco.detectMarkers(\n",
    "            img_gray, \n",
    "            aruco_dict, \n",
    "            parameters=arucoParams\n",
    "        )\n",
    "        img_detected = aruco.drawDetectedMarkers(image, corners, ids, (0,255,0))\n",
    "        cv2.imshow(\"board\",image)\n",
    "        cv2.waitKey()\n",
    "        cv2.destroyAllWindows()\n",
    "        resp, charuco_corners, charuco_ids = aruco.interpolateCornersCharuco(\n",
    "            markerCorners=corners,\n",
    "            markerIds=ids,\n",
    "            image=img_gray,\n",
    "            board=board\n",
    "        )\n",
    "    \n",
    "        # If a Charuco board was found, let's collect image/corner points\n",
    "        # Requiring at least 20 squares\n",
    "        if resp > 20:\n",
    "            # Add these corners and ids to our calibration arrays\n",
    "            corners_list.append(charuco_corners)\n",
    "            id_list.append(charuco_ids)\n",
    "\n",
    "    # Actual calibration\n",
    "    ret, mtx, dist, rvecs, tvecs = aruco.calibrateCameraCharuco(\n",
    "        charucoCorners=corners_list, \n",
    "        charucoIds=id_list, \n",
    "        board=board, \n",
    "        imageSize=img_gray.shape, \n",
    "        cameraMatrix=None, \n",
    "        distCoeffs=None)\n",
    "    \n",
    "    return [ret, mtx, dist, rvecs, tvecs]"
   ]
  },
  {
   "cell_type": "code",
   "execution_count": 14,
   "id": "5f17a17d",
   "metadata": {
    "code_folding": []
   },
   "outputs": [
    {
     "ename": "UnboundLocalError",
     "evalue": "local variable 'img_gray' referenced before assignment",
     "output_type": "error",
     "traceback": [
      "\u001b[1;31m---------------------------------------------------------------------------\u001b[0m",
      "\u001b[1;31mUnboundLocalError\u001b[0m                         Traceback (most recent call last)",
      "\u001b[1;32m~\\AppData\\Local\\Temp/ipykernel_9580/4099997402.py\u001b[0m in \u001b[0;36m<module>\u001b[1;34m\u001b[0m\n\u001b[0;32m      7\u001b[0m \u001b[1;33m\u001b[0m\u001b[0m\n\u001b[0;32m      8\u001b[0m \u001b[1;31m# Calibrate\u001b[0m\u001b[1;33m\u001b[0m\u001b[1;33m\u001b[0m\u001b[0m\n\u001b[1;32m----> 9\u001b[1;33m ret, mtx, dist, rvecs, tvecs = calibrate_charuco(\n\u001b[0m\u001b[0;32m     10\u001b[0m     \u001b[0mIMAGES_DIR\u001b[0m\u001b[1;33m,\u001b[0m\u001b[1;33m\u001b[0m\u001b[1;33m\u001b[0m\u001b[0m\n\u001b[0;32m     11\u001b[0m     \u001b[0mIMAGES_FORMAT\u001b[0m\u001b[1;33m,\u001b[0m\u001b[1;33m\u001b[0m\u001b[1;33m\u001b[0m\u001b[0m\n",
      "\u001b[1;32m~\\AppData\\Local\\Temp/ipykernel_9580/3023960755.py\u001b[0m in \u001b[0;36mcalibrate_charuco\u001b[1;34m(dirpath, image_format, marker_length, square_length)\u001b[0m\n\u001b[0;32m     47\u001b[0m         \u001b[0mcharucoIds\u001b[0m\u001b[1;33m=\u001b[0m\u001b[0mid_list\u001b[0m\u001b[1;33m,\u001b[0m\u001b[1;33m\u001b[0m\u001b[1;33m\u001b[0m\u001b[0m\n\u001b[0;32m     48\u001b[0m         \u001b[0mboard\u001b[0m\u001b[1;33m=\u001b[0m\u001b[0mboard\u001b[0m\u001b[1;33m,\u001b[0m\u001b[1;33m\u001b[0m\u001b[1;33m\u001b[0m\u001b[0m\n\u001b[1;32m---> 49\u001b[1;33m         \u001b[0mimageSize\u001b[0m\u001b[1;33m=\u001b[0m\u001b[0mimg_gray\u001b[0m\u001b[1;33m.\u001b[0m\u001b[0mshape\u001b[0m\u001b[1;33m,\u001b[0m\u001b[1;33m\u001b[0m\u001b[1;33m\u001b[0m\u001b[0m\n\u001b[0m\u001b[0;32m     50\u001b[0m         \u001b[0mcameraMatrix\u001b[0m\u001b[1;33m=\u001b[0m\u001b[1;32mNone\u001b[0m\u001b[1;33m,\u001b[0m\u001b[1;33m\u001b[0m\u001b[1;33m\u001b[0m\u001b[0m\n\u001b[0;32m     51\u001b[0m         distCoeffs=None)\n",
      "\u001b[1;31mUnboundLocalError\u001b[0m: local variable 'img_gray' referenced before assignment"
     ]
    }
   ],
   "source": [
    "# Parameters\n",
    "IMAGES_DIR = 'C:/Users/Ian/Documents/Julien/IMT/Minijob/Anti_counterfeiting_labels/aruco/ressources/charuco'\n",
    "IMAGES_FORMAT = 'jpg'\n",
    "# Dimensions in cm\n",
    "MARKER_LENGTH = 2.3\n",
    "SQUARE_LENGTH = 2.8\n",
    "\n",
    "# Calibrate \n",
    "ret, mtx, dist, rvecs, tvecs = calibrate_charuco(\n",
    "    IMAGES_DIR, \n",
    "    IMAGES_FORMAT,\n",
    "    MARKER_LENGTH,\n",
    "    SQUARE_LENGTH\n",
    ")\n"
   ]
  },
  {
   "cell_type": "code",
   "execution_count": 15,
   "id": "33c4a211",
   "metadata": {},
   "outputs": [
    {
     "ename": "NameError",
     "evalue": "name 'mtx' is not defined",
     "output_type": "error",
     "traceback": [
      "\u001b[1;31m---------------------------------------------------------------------------\u001b[0m",
      "\u001b[1;31mNameError\u001b[0m                                 Traceback (most recent call last)",
      "\u001b[1;32m~\\AppData\\Local\\Temp/ipykernel_9580/3910303346.py\u001b[0m in \u001b[0;36m<module>\u001b[1;34m\u001b[0m\n\u001b[1;32m----> 1\u001b[1;33m \u001b[0msave_coefficients\u001b[0m\u001b[1;33m(\u001b[0m\u001b[0mmtx\u001b[0m\u001b[1;33m,\u001b[0m \u001b[0mdist\u001b[0m\u001b[1;33m,\u001b[0m \u001b[1;34m\"C:/Users/Ian/Documents/Julien/IMT/Minijob/Anti_counterfeiting_labels/aruco/ressources/charuco/calibration_charuco.yml\"\u001b[0m\u001b[1;33m)\u001b[0m\u001b[1;33m\u001b[0m\u001b[1;33m\u001b[0m\u001b[0m\n\u001b[0m\u001b[0;32m      2\u001b[0m \u001b[1;33m\u001b[0m\u001b[0m\n\u001b[0;32m      3\u001b[0m \u001b[1;31m# Load coefficients\u001b[0m\u001b[1;33m\u001b[0m\u001b[1;33m\u001b[0m\u001b[0m\n\u001b[0;32m      4\u001b[0m \u001b[0mmtx\u001b[0m\u001b[1;33m,\u001b[0m \u001b[0mdist\u001b[0m \u001b[1;33m=\u001b[0m \u001b[0mload_coefficients\u001b[0m\u001b[1;33m(\u001b[0m\u001b[1;34m'C:/Users/Ian/Documents/Julien/IMT/Minijob/Anti_counterfeiting_labels/aruco/ressources/charuco/calibration_charuco.yml'\u001b[0m\u001b[1;33m)\u001b[0m\u001b[1;33m\u001b[0m\u001b[1;33m\u001b[0m\u001b[0m\n",
      "\u001b[1;31mNameError\u001b[0m: name 'mtx' is not defined"
     ]
    }
   ],
   "source": [
    "save_coefficients(mtx, dist, \"C:/Users/Ian/Documents/Julien/IMT/Minijob/Anti_counterfeiting_labels/aruco/ressources/charuco/calibration_charuco.yml\")\n",
    "\n",
    "# Load coefficients\n",
    "mtx, dist = load_coefficients('C:/Users/Ian/Documents/Julien/IMT/Minijob/Anti_counterfeiting_labels/aruco/ressources/charuco/calibration_charuco.yml')"
   ]
  },
  {
   "cell_type": "code",
   "execution_count": null,
   "id": "b7d518a3",
   "metadata": {},
   "outputs": [],
   "source": [
    "print(mtx)\n",
    "print(dist)"
   ]
  }
 ],
 "metadata": {
  "kernelspec": {
   "display_name": "Python 3 (ipykernel)",
   "language": "python",
   "name": "python3"
  },
  "language_info": {
   "codemirror_mode": {
    "name": "ipython",
    "version": 3
   },
   "file_extension": ".py",
   "mimetype": "text/x-python",
   "name": "python",
   "nbconvert_exporter": "python",
   "pygments_lexer": "ipython3",
   "version": "3.9.7"
  }
 },
 "nbformat": 4,
 "nbformat_minor": 5
}
